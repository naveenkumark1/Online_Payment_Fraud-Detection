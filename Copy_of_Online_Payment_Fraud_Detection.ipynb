{
  "nbformat": 4,
  "nbformat_minor": 0,
  "metadata": {
    "colab": {
      "name": "Copy of Online_Payment_Fraud_Detection.ipynb",
      "provenance": [],
      "collapsed_sections": [],
      "authorship_tag": "ABX9TyO4/0hozFnhE39xOXGlbjB4",
      "include_colab_link": true
    },
    "kernelspec": {
      "name": "python3",
      "display_name": "Python 3"
    },
    "language_info": {
      "name": "python"
    }
  },
  "cells": [
    {
      "cell_type": "markdown",
      "metadata": {
        "id": "view-in-github",
        "colab_type": "text"
      },
      "source": [
        "<a href=\"https://colab.research.google.com/github/naveenkumark1/Online_Payment_Fraud_Detection/blob/main/Copy_of_Online_Payment_Fraud_Detection.ipynb\" target=\"_parent\"><img src=\"https://colab.research.google.com/assets/colab-badge.svg\" alt=\"Open In Colab\"/></a>"
      ]
    },
    {
      "cell_type": "code",
      "execution_count": null,
      "metadata": {
        "id": "Ht6e54CDyhqK"
      },
      "outputs": [],
      "source": [
        "# Online_Payment_Fraud-Detection"
      ]
    },
    {
      "cell_type": "code",
      "source": [
        "print(\"https://github.com/naveenkumark1/\")"
      ],
      "metadata": {
        "colab": {
          "base_uri": "https://localhost:8080/"
        },
        "id": "xU63mvVg0Vm3",
        "outputId": "c96cd259-6275-47bb-93a6-dd9011f3e2d1"
      },
      "execution_count": 1,
      "outputs": [
        {
          "output_type": "stream",
          "name": "stdout",
          "text": [
            "https://github.com/naveenkumark1/\n"
          ]
        }
      ]
    }
  ]
}